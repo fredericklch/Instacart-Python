{
 "cells": [
  {
   "cell_type": "markdown",
   "id": "af1f6f67",
   "metadata": {},
   "source": [
    "# 01. Importing libraries"
   ]
  },
  {
   "cell_type": "code",
   "execution_count": 3,
   "id": "b15c0408",
   "metadata": {},
   "outputs": [],
   "source": [
    "# Import libraries\n",
    "import pandas as pd\n",
    "import numpy as np\n",
    "import os"
   ]
  },
  {
   "cell_type": "code",
   "execution_count": 4,
   "id": "f5f25a0e",
   "metadata": {},
   "outputs": [],
   "source": [
    "x = 2"
   ]
  },
  {
   "cell_type": "code",
   "execution_count": 5,
   "id": "8361a5b7",
   "metadata": {},
   "outputs": [
    {
     "data": {
      "text/plain": [
       "2"
      ]
     },
     "execution_count": 5,
     "metadata": {},
     "output_type": "execute_result"
    }
   ],
   "source": [
    "x"
   ]
  },
  {
   "cell_type": "code",
   "execution_count": 6,
   "id": "751f7223",
   "metadata": {},
   "outputs": [
    {
     "name": "stdout",
     "output_type": "stream",
     "text": [
      "2\n"
     ]
    }
   ],
   "source": [
    "print(x)"
   ]
  },
  {
   "cell_type": "code",
   "execution_count": 7,
   "id": "12266c68",
   "metadata": {},
   "outputs": [
    {
     "data": {
      "text/plain": [
       "int"
      ]
     },
     "execution_count": 7,
     "metadata": {},
     "output_type": "execute_result"
    }
   ],
   "source": [
    "type(x)"
   ]
  },
  {
   "cell_type": "code",
   "execution_count": 8,
   "id": "82584708",
   "metadata": {},
   "outputs": [],
   "source": [
    "y = 5.678"
   ]
  },
  {
   "cell_type": "code",
   "execution_count": 9,
   "id": "8a9d936c",
   "metadata": {},
   "outputs": [
    {
     "data": {
      "text/plain": [
       "float"
      ]
     },
     "execution_count": 9,
     "metadata": {},
     "output_type": "execute_result"
    }
   ],
   "source": [
    "type(y)"
   ]
  },
  {
   "cell_type": "code",
   "execution_count": 10,
   "id": "e46a2782",
   "metadata": {},
   "outputs": [],
   "source": [
    "z = 'Brazil'"
   ]
  },
  {
   "cell_type": "code",
   "execution_count": 11,
   "id": "623b3db0",
   "metadata": {},
   "outputs": [
    {
     "data": {
      "text/plain": [
       "str"
      ]
     },
     "execution_count": 11,
     "metadata": {},
     "output_type": "execute_result"
    }
   ],
   "source": [
    "type(z)"
   ]
  },
  {
   "cell_type": "code",
   "execution_count": 12,
   "id": "bd21607c",
   "metadata": {},
   "outputs": [
    {
     "data": {
      "text/plain": [
       "bool"
      ]
     },
     "execution_count": 12,
     "metadata": {},
     "output_type": "execute_result"
    }
   ],
   "source": [
    "type(True)"
   ]
  },
  {
   "cell_type": "code",
   "execution_count": 13,
   "id": "aa6f41a0",
   "metadata": {},
   "outputs": [
    {
     "data": {
      "text/plain": [
       "bool"
      ]
     },
     "execution_count": 13,
     "metadata": {},
     "output_type": "execute_result"
    }
   ],
   "source": [
    "type(False)"
   ]
  },
  {
   "cell_type": "code",
   "execution_count": 14,
   "id": "b205af90",
   "metadata": {},
   "outputs": [
    {
     "data": {
      "text/plain": [
       "6"
      ]
     },
     "execution_count": 14,
     "metadata": {},
     "output_type": "execute_result"
    }
   ],
   "source": [
    "x + 4"
   ]
  },
  {
   "cell_type": "markdown",
   "id": "5a67e9e1",
   "metadata": {},
   "source": [
    " # 02. Working with Python data types"
   ]
  },
  {
   "cell_type": "code",
   "execution_count": 16,
   "id": "7c5c6d4e",
   "metadata": {},
   "outputs": [],
   "source": [
    "a = 40"
   ]
  },
  {
   "cell_type": "code",
   "execution_count": 17,
   "id": "540dac07",
   "metadata": {},
   "outputs": [],
   "source": [
    "b = 60"
   ]
  },
  {
   "cell_type": "code",
   "execution_count": 18,
   "id": "755bb18f",
   "metadata": {},
   "outputs": [
    {
     "data": {
      "text/plain": [
       "100"
      ]
     },
     "execution_count": 18,
     "metadata": {},
     "output_type": "execute_result"
    }
   ],
   "source": [
    "a + b"
   ]
  },
  {
   "cell_type": "code",
   "execution_count": 19,
   "id": "79e55c72",
   "metadata": {},
   "outputs": [],
   "source": [
    "c = 160"
   ]
  },
  {
   "cell_type": "code",
   "execution_count": 20,
   "id": "df95a787",
   "metadata": {},
   "outputs": [
    {
     "data": {
      "text/plain": [
       "100"
      ]
     },
     "execution_count": 20,
     "metadata": {},
     "output_type": "execute_result"
    }
   ],
   "source": [
    "c - b"
   ]
  },
  {
   "cell_type": "code",
   "execution_count": 22,
   "id": "a128b027",
   "metadata": {},
   "outputs": [
    {
     "data": {
      "text/plain": [
       "100"
      ]
     },
     "execution_count": 22,
     "metadata": {},
     "output_type": "execute_result"
    }
   ],
   "source": [
    "b + 40"
   ]
  },
  {
   "cell_type": "code",
   "execution_count": 23,
   "id": "aabe5b4c",
   "metadata": {},
   "outputs": [],
   "source": [
    "d = 7.5"
   ]
  },
  {
   "cell_type": "code",
   "execution_count": 24,
   "id": "cfc2bc0d",
   "metadata": {},
   "outputs": [],
   "source": [
    "e = 1.5"
   ]
  },
  {
   "cell_type": "code",
   "execution_count": 25,
   "id": "c98612a2",
   "metadata": {},
   "outputs": [
    {
     "data": {
      "text/plain": [
       "5.0"
      ]
     },
     "execution_count": 25,
     "metadata": {},
     "output_type": "execute_result"
    }
   ],
   "source": [
    "d / e"
   ]
  },
  {
   "cell_type": "code",
   "execution_count": 26,
   "id": "67496236",
   "metadata": {},
   "outputs": [],
   "source": [
    "f = 'Exercise'"
   ]
  },
  {
   "cell_type": "code",
   "execution_count": 27,
   "id": "46e4037e",
   "metadata": {},
   "outputs": [],
   "source": [
    "g = ' 4.2'"
   ]
  },
  {
   "cell_type": "code",
   "execution_count": 28,
   "id": "24b9300e",
   "metadata": {},
   "outputs": [
    {
     "data": {
      "text/plain": [
       "'Exercise 4.2'"
      ]
     },
     "execution_count": 28,
     "metadata": {},
     "output_type": "execute_result"
    }
   ],
   "source": [
    "f + g"
   ]
  },
  {
   "cell_type": "code",
   "execution_count": 32,
   "id": "5a36740e",
   "metadata": {},
   "outputs": [],
   "source": [
    "h = 'The festive season arrives! '"
   ]
  },
  {
   "cell_type": "code",
   "execution_count": 30,
   "id": "3241d17f",
   "metadata": {},
   "outputs": [],
   "source": [
    "i = 'Get a gift for your family, 25% off storewide!'"
   ]
  },
  {
   "cell_type": "code",
   "execution_count": 33,
   "id": "8a698155",
   "metadata": {},
   "outputs": [
    {
     "data": {
      "text/plain": [
       "'The festive season arrives! Get a gift for your family, 25% off storewide!'"
      ]
     },
     "execution_count": 33,
     "metadata": {},
     "output_type": "execute_result"
    }
   ],
   "source": [
    "h + i"
   ]
  },
  {
   "cell_type": "code",
   "execution_count": 34,
   "id": "4953afd8",
   "metadata": {},
   "outputs": [],
   "source": [
    "j = 'Christmas'"
   ]
  },
  {
   "cell_type": "code",
   "execution_count": 35,
   "id": "35977775",
   "metadata": {},
   "outputs": [
    {
     "data": {
      "text/plain": [
       "'ChristmasChristmasChristmasChristmasChristmasChristmasChristmasChristmasChristmasChristmasChristmasChristmasChristmasChristmasChristmasChristmasChristmasChristmasChristmasChristmasChristmasChristmasChristmasChristmasChristmasChristmasChristmasChristmasChristmasChristmasChristmasChristmasChristmasChristmasChristmasChristmasChristmasChristmasChristmasChristmasChristmasChristmasChristmasChristmasChristmasChristmasChristmasChristmasChristmasChristmasChristmasChristmasChristmasChristmasChristmasChristmasChristmasChristmasChristmasChristmasChristmasChristmasChristmasChristmasChristmasChristmasChristmasChristmasChristmasChristmasChristmasChristmasChristmasChristmasChristmasChristmasChristmasChristmasChristmasChristmasChristmasChristmasChristmasChristmasChristmasChristmasChristmasChristmasChristmasChristmasChristmasChristmasChristmasChristmasChristmasChristmasChristmasChristmasChristmasChristmas'"
      ]
     },
     "execution_count": 35,
     "metadata": {},
     "output_type": "execute_result"
    }
   ],
   "source": [
    "j * 100"
   ]
  },
  {
   "cell_type": "code",
   "execution_count": null,
   "id": "172b9ba5",
   "metadata": {},
   "outputs": [],
   "source": []
  }
 ],
 "metadata": {
  "kernelspec": {
   "display_name": "Python 3 (ipykernel)",
   "language": "python",
   "name": "python3"
  },
  "language_info": {
   "codemirror_mode": {
    "name": "ipython",
    "version": 3
   },
   "file_extension": ".py",
   "mimetype": "text/x-python",
   "name": "python",
   "nbconvert_exporter": "python",
   "pygments_lexer": "ipython3",
   "version": "3.11.5"
  }
 },
 "nbformat": 4,
 "nbformat_minor": 5
}
